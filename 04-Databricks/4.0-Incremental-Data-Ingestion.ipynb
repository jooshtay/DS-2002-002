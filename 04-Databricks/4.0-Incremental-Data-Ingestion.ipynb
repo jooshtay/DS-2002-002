{
 "cells": [
  {
   "cell_type": "markdown",
   "metadata": {
    "application/vnd.databricks.v1+cell": {
     "inputWidgets": {},
     "nuid": "46d58e3d-defb-440f-8328-681c92c65762",
     "showTitle": false,
     "title": ""
    }
   },
   "source": [
    "### Incremental Data Ingestion with Auto Loader\n",
    "\n",
    "Spark Structured Streaming is a feature of Apache Spark that enables for simplified configuration when processing incremental datasets. Historically, streaming big data has been driven by the need to reduce latency for the sake of providing near real-time analytics; however, this lesson focuses more on implementing incremental data processing.\n",
    "\n",
    "While not absolutely required when working with a *data lakehouse*, many enterprise implementations will derive substantial benefit from incremental data processing. Incremental ETL is important since it allows us to deal solely with new data that has been encountered since the last ingestion. Reliably processing only the new data reduces redundant processing and helps enterprises reliably scale data pipelines.  The first step for any successful data lakehouse implementation is ingesting into a Delta Lake table from cloud storage. Historically, ingesting files from a data lake into a database has been a complicated process; however, Databricks Auto Loader provides an easy-to-use mechanism for incrementally and efficiently processing new data files as they arrive in cloud file storage. Due to the benefits and scalability that Auto Loader delivers, Databricks recommends its use as general **best practice** when ingesting data from cloud object storage.\n",
    "\n",
    "#### Objectives\n",
    "* Execute Auto Loader code to incrementally ingest data from cloud storage to Delta Lake\n",
    "* Describe what happens when a new file arrives in a directory configured for Auto Loader\n",
    "* Query a table fed by a streaming Auto Loader query\n",
    "\n",
    "#### 1.0. Import Shared Utilities and Data Files\n",
    "This lab will demonstrate ingesting artificially generated medical data, in JSON format, that simulates heart rate monitor signals captured from numerous devices; therefore, this data represents what would be expected from a *Streaming* data source.\n",
    "\n",
    "| Field | Type |\n",
    "| --- | --- \n",
    "| device_id | int |\n",
    "| mrn | long |\n",
    "| time | double |\n",
    "| heartrate | double |\n",
    "\n",
    "First, run the following cell to import the data and make various utilities available for our experimentation."
   ]
  },
  {
   "cell_type": "code",
   "execution_count": 0,
   "metadata": {
    "application/vnd.databricks.v1+cell": {
     "inputWidgets": {},
     "nuid": "a0616aa5-65da-4059-b641-d74e0111a7c0",
     "showTitle": false,
     "title": ""
    }
   },
   "outputs": [],
   "source": [
    "%run ./Includes/4.0-setup"
   ]
  },
  {
   "cell_type": "markdown",
   "metadata": {
    "application/vnd.databricks.v1+cell": {
     "inputWidgets": {},
     "nuid": "01d0c8e7-13c9-4579-ab03-188ac45c8f61",
     "showTitle": false,
     "title": ""
    }
   },
   "source": [
    "#### 2.0. Using Auto Loader\n",
    "In the cell below, a function is defined to demonstrate using Databricks Auto Loader with the PySpark API. This code includes both a Structured Streaming read and write. If you wish to learn more about Auto Loader options, refer to the <a href=\"https://docs.databricks.com/spark/latest/structured-streaming/auto-loader.html\" target=\"_blank\">documentation</a>.\n",
    "\n",
    "Note that when using Auto Loader with automatic <a href=\"https://docs.databricks.com/spark/latest/structured-streaming/auto-loader-schema.html\" target=\"_blank\">schema inference and evolution</a>, the 4 arguments shown here should allow ingestion of most datasets. These arguments are explained below.\n",
    "\n",
    "| argument | what it is | how it's used |\n",
    "| --- | --- | --- |\n",
    "| **`data_source`** | The directory of the source data | Auto Loader will detect new files as they arrive in this location and queue them for ingestion; passed to the **`.load()`** method |\n",
    "| **`source_format`** | The format of the source data |  While the format for all Auto Loader queries will be **`cloudFiles`**, the format of the source data should always be specified for the **`cloudFiles.format`** option |\n",
    "| **`table_name`** | The name of the target table | Spark Structured Streaming supports writing directly to Delta Lake tables by passing a table name as a string to the **`.table()`** method. Note that you can either append to an existing table or create a new table |\n",
    "| **`checkpoint_directory`** | The location for storing metadata about the stream | This argument is passed to the **`checkpointLocation`** and **`cloudFiles.schemaLocation`** options. Checkpoints keep track of streaming progress, while the schema location tracks updates to the fields in the source dataset |\n",
    "\n",
    "**NOTE**: The code below has been streamlined to demonstrate Auto Loader functionality. Later we'll see how additional transformations can be applied to source data before saving them to Delta Lake."
   ]
  },
  {
   "cell_type": "code",
   "execution_count": 0,
   "metadata": {
    "application/vnd.databricks.v1+cell": {
     "inputWidgets": {},
     "nuid": "9ba3a3ff-db46-46f8-a1cb-218e570ac4df",
     "showTitle": false,
     "title": ""
    }
   },
   "outputs": [],
   "source": [
    "def autoload_to_table(data_source, source_format, table_name, checkpoint_directory):\n",
    "    query = (spark.readStream\n",
    "                  .format(\"cloudFiles\")\n",
    "                  .option(\"cloudFiles.format\", source_format)\n",
    "                  .option(\"cloudFiles.schemaLocation\", checkpoint_directory)\n",
    "                  .load(data_source)\n",
    "                  .writeStream\n",
    "                  .option(\"checkpointLocation\", checkpoint_directory)\n",
    "                  .option(\"mergeSchema\", \"true\")\n",
    "                  .table(table_name))\n",
    "    return query"
   ]
  },
  {
   "cell_type": "markdown",
   "metadata": {
    "application/vnd.databricks.v1+cell": {
     "inputWidgets": {},
     "nuid": "a60959e4-7cc4-4693-bed4-8234c824533f",
     "showTitle": false,
     "title": ""
    }
   },
   "source": [
    "We will now use the previously defined function and some path variables defined in the setup script to begin an Auto Loader stream that reads from a source directory of JSON files."
   ]
  },
  {
   "cell_type": "code",
   "execution_count": 0,
   "metadata": {
    "application/vnd.databricks.v1+cell": {
     "inputWidgets": {},
     "nuid": "f52ae997-8cfc-4fb6-83f4-ac242ad4fd34",
     "showTitle": false,
     "title": ""
    }
   },
   "outputs": [],
   "source": [
    "query = autoload_to_table(data_source = f\"{DA.paths.working_dir}/tracker\",\n",
    "                          source_format = \"json\",\n",
    "                          table_name = \"target_table\",\n",
    "                          checkpoint_directory = f\"{DA.paths.checkpoints}/target_table\")\n"
   ]
  },
  {
   "cell_type": "markdown",
   "metadata": {
    "application/vnd.databricks.v1+cell": {
     "inputWidgets": {},
     "nuid": "b331413f-f4fd-4059-816c-41e1721ff04a",
     "showTitle": false,
     "title": ""
    }
   },
   "source": [
    "Because Auto Loader uses Spark Structured Streaming to load data incrementally, the code above doesn't appear to finish executing. That's because this is a **continuously active query**, which means that as soon as new data arrives in our data source, it will be processed through our logic and loaded into our target table.\n",
    "\n",
    "##### 2.1. Helper Function for Streaming Lessons\n",
    "This lesson demonstrates combining streaming functions with batch and streaming queries against the results of their operations. This notebook is for instructional purposes and intended for interactive, cell-by-cell execution. That being said, here we define a helper function to prevent our notebook from executing the next cell just long enough to ensure data has been written out by a given streaming query. This code would not be necessary in a production job."
   ]
  },
  {
   "cell_type": "code",
   "execution_count": 0,
   "metadata": {
    "application/vnd.databricks.v1+cell": {
     "inputWidgets": {},
     "nuid": "f825e6f2-7787-4da5-8bc1-dd09b66341b4",
     "showTitle": false,
     "title": ""
    }
   },
   "outputs": [],
   "source": [
    "def block_until_stream_is_ready(query, min_batches=2):\n",
    "    import time\n",
    "    while len(query.recentProgress) < min_batches:\n",
    "        time.sleep(5) # Give it a couple of seconds\n",
    "\n",
    "    print(f\"The stream has processed {len(query.recentProgress)} batchs\")\n",
    "\n",
    "block_until_stream_is_ready(query)"
   ]
  },
  {
   "cell_type": "markdown",
   "metadata": {
    "application/vnd.databricks.v1+cell": {
     "inputWidgets": {},
     "nuid": "29b598c8-a417-48d5-9525-d0bef836f3c6",
     "showTitle": false,
     "title": ""
    }
   },
   "source": [
    "#### 3.0. Query Target Table\n",
    "Once data has been ingested into Delta Lake using the Auto Loader, it can be interacted with in just the same manner as any SQL database table."
   ]
  },
  {
   "cell_type": "code",
   "execution_count": 0,
   "metadata": {
    "application/vnd.databricks.v1+cell": {
     "inputWidgets": {},
     "nuid": "0aa91834-e95f-4168-833d-ff3950b66776",
     "showTitle": false,
     "title": ""
    }
   },
   "outputs": [],
   "source": [
    "%sql\n",
    "SELECT * FROM target_table"
   ]
  },
  {
   "cell_type": "markdown",
   "metadata": {
    "application/vnd.databricks.v1+cell": {
     "inputWidgets": {},
     "nuid": "3b15296c-87c0-49b3-94c9-31b71fc8a1a1",
     "showTitle": false,
     "title": ""
    }
   },
   "source": [
    "Note that the **`_rescued_data`** column is added by Auto Loader automatically to capture any data that might be malformed and not fit into the table otherwise.  While Auto Loader captured the field names for our data correctly, note that it encoded all fields as **`STRING`** type. Because JSON is a text-based format, this is the safest and most permissive type, ensuring that the least amount of data is dropped or ignored at ingestion due to type mismatch."
   ]
  },
  {
   "cell_type": "code",
   "execution_count": 0,
   "metadata": {
    "application/vnd.databricks.v1+cell": {
     "inputWidgets": {},
     "nuid": "ea95bd52-ccf5-4b7f-800b-64e3c858521d",
     "showTitle": false,
     "title": ""
    }
   },
   "outputs": [],
   "source": [
    "%sql\n",
    "DESCRIBE TABLE target_table"
   ]
  },
  {
   "cell_type": "markdown",
   "metadata": {
    "application/vnd.databricks.v1+cell": {
     "inputWidgets": {},
     "nuid": "a332125d-ddda-48ae-96e0-cea3a1246eb7",
     "showTitle": false,
     "title": ""
    }
   },
   "source": [
    "Next, define a temporary view that summarizes the recordings in our target table.  This view will be used to demonstrate how new data is automatically ingested with Auto Loader."
   ]
  },
  {
   "cell_type": "code",
   "execution_count": 0,
   "metadata": {
    "application/vnd.databricks.v1+cell": {
     "inputWidgets": {},
     "nuid": "51acb645-3939-4696-bcb5-a9c17efba484",
     "showTitle": false,
     "title": ""
    }
   },
   "outputs": [],
   "source": [
    "%sql\n",
    "CREATE OR REPLACE TEMP VIEW device_counts AS\n",
    "  SELECT device_id, count(*) total_recordings\n",
    "  FROM target_table\n",
    "  GROUP BY device_id;\n",
    "  \n",
    "SELECT * FROM device_counts"
   ]
  },
  {
   "cell_type": "markdown",
   "metadata": {
    "application/vnd.databricks.v1+cell": {
     "inputWidgets": {},
     "nuid": "b81438c5-edb4-49dc-9dfa-a0ed0258c14d",
     "showTitle": false,
     "title": ""
    }
   },
   "source": [
    "####4.0. Land New Data\n",
    "\n",
    "As mentioned previously, Auto Loader is configured to incrementally process files from a directory in cloud object storage into a Delta Lake table.  We have configured and are currently executing a query to process JSON files from the location specified by **`source_path`** into a table named **`target_table`**. Let's review the contents of the **`source_path`** directory."
   ]
  },
  {
   "cell_type": "code",
   "execution_count": 0,
   "metadata": {
    "application/vnd.databricks.v1+cell": {
     "inputWidgets": {},
     "nuid": "dec88870-bd61-40ed-af73-4a4b958b6d1b",
     "showTitle": false,
     "title": ""
    }
   },
   "outputs": [],
   "source": [
    "files = dbutils.fs.ls(f\"{DA.paths.working_dir}/tracker\")\n",
    "display(files)"
   ]
  },
  {
   "cell_type": "markdown",
   "metadata": {
    "application/vnd.databricks.v1+cell": {
     "inputWidgets": {},
     "nuid": "fc32db5e-bcba-48c4-ab7f-68f102177c75",
     "showTitle": false,
     "title": ""
    }
   },
   "source": [
    "At present, you should see a single JSON file listed in this location. The function invoked in the following cell was configured by our setup script to allow us to mimic an external system writing new data to this directory. Each time you execute the cell below, a new file will land in the **`source_path`** directory."
   ]
  },
  {
   "cell_type": "code",
   "execution_count": 0,
   "metadata": {
    "application/vnd.databricks.v1+cell": {
     "inputWidgets": {},
     "nuid": "651e088f-e1ca-4b18-8c7a-6fa1d81ea870",
     "showTitle": false,
     "title": ""
    }
   },
   "outputs": [],
   "source": [
    "DA.data_factory.load()"
   ]
  },
  {
   "cell_type": "markdown",
   "metadata": {
    "application/vnd.databricks.v1+cell": {
     "inputWidgets": {},
     "nuid": "a5be9dae-6074-4dc6-ba24-934ac74ce74e",
     "showTitle": false,
     "title": ""
    }
   },
   "source": [
    "When we list the contents of the **`source_path`** again using the cell below we should see an additional JSON file for each time you ran the previous cell."
   ]
  },
  {
   "cell_type": "code",
   "execution_count": 0,
   "metadata": {
    "application/vnd.databricks.v1+cell": {
     "inputWidgets": {},
     "nuid": "30ed6e4d-4d1e-4cb6-b35d-99ec7841239a",
     "showTitle": false,
     "title": ""
    }
   },
   "outputs": [],
   "source": [
    "files = dbutils.fs.ls(f\"{DA.paths.working_dir}/tracker\")\n",
    "display(files)"
   ]
  },
  {
   "cell_type": "markdown",
   "metadata": {
    "application/vnd.databricks.v1+cell": {
     "inputWidgets": {},
     "nuid": "f8ca5f75-670a-448a-9529-5e02fe07bc9a",
     "showTitle": false,
     "title": ""
    }
   },
   "source": [
    "#### 5.0. Tracking Ingestion Progress\n",
    "Historically, many systems have been configured to either reprocess all records in a source directory to calculate current results or require data engineers to implement custom logic to identify new data that's arrived since the last time a table was updated.  With Auto Loader, your table has already been updated. Run the query below to confirm that new data has been ingested."
   ]
  },
  {
   "cell_type": "code",
   "execution_count": 0,
   "metadata": {
    "application/vnd.databricks.v1+cell": {
     "inputWidgets": {},
     "nuid": "04119ae8-20ca-40e1-b70a-22883ce77b9f",
     "showTitle": false,
     "title": ""
    }
   },
   "outputs": [],
   "source": [
    "%sql\n",
    "SELECT * FROM device_counts"
   ]
  },
  {
   "cell_type": "markdown",
   "metadata": {
    "application/vnd.databricks.v1+cell": {
     "inputWidgets": {},
     "nuid": "4040d388-1c10-4030-bf8c-3e731526ba3c",
     "showTitle": false,
     "title": ""
    }
   },
   "source": [
    "The Auto Loader query we configured earlier automatically detects and processes records from the source directory into the target table. While there is a slight delay as records are ingested, an Auto Loader query executing with default streaming configuration should update results in near real time.  The query below shows the table history. A new table version should be indicated for each **`STREAMING UPDATE`**. These update events coincide with new batches of data arriving at the source."
   ]
  },
  {
   "cell_type": "code",
   "execution_count": 0,
   "metadata": {
    "application/vnd.databricks.v1+cell": {
     "inputWidgets": {},
     "nuid": "91228c2a-e550-401a-98b2-5b5c69d38389",
     "showTitle": false,
     "title": ""
    }
   },
   "outputs": [],
   "source": [
    "%sql\n",
    "DESCRIBE HISTORY target_table"
   ]
  },
  {
   "cell_type": "markdown",
   "metadata": {
    "application/vnd.databricks.v1+cell": {
     "inputWidgets": {},
     "nuid": "68ec32e9-9df7-440b-9345-f7b961265df1",
     "showTitle": false,
     "title": ""
    }
   },
   "source": [
    "#### 6.0. Clean Up\n",
    "Feel free to continue landing new data and exploring the table results with the cells above. When you're finished, run the following cell to stop all active streams and remove created resources."
   ]
  },
  {
   "cell_type": "code",
   "execution_count": 0,
   "metadata": {
    "application/vnd.databricks.v1+cell": {
     "inputWidgets": {},
     "nuid": "c332d937-6903-4955-8936-0a77289383d8",
     "showTitle": false,
     "title": ""
    }
   },
   "outputs": [],
   "source": [
    "DA.cleanup()"
   ]
  }
 ],
 "metadata": {
  "application/vnd.databricks.v1+notebook": {
   "dashboards": [],
   "language": "python",
   "notebookMetadata": {
    "pythonIndentUnit": 4
   },
   "notebookName": "4.0-Incremental-Data-Ingestion",
   "notebookOrigID": 3043561722612489,
   "widgets": {}
  },
  "kernelspec": {
   "display_name": "Python 3 (ipykernel)",
   "language": "python",
   "name": "python3"
  },
  "language_info": {
   "codemirror_mode": {
    "name": "ipython",
    "version": 3
   },
   "file_extension": ".py",
   "mimetype": "text/x-python",
   "name": "python",
   "nbconvert_exporter": "python",
   "pygments_lexer": "ipython3",
   "version": "3.8.8"
  }
 },
 "nbformat": 4,
 "nbformat_minor": 1
}
